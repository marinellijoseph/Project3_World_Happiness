{
 "cells": [
  {
   "cell_type": "code",
   "execution_count": 1,
   "metadata": {},
   "outputs": [],
   "source": [
    "from pyspark.sql import SparkSession"
   ]
  },
  {
   "cell_type": "code",
   "execution_count": 2,
   "metadata": {},
   "outputs": [],
   "source": [
    "spark = SparkSession.builder.appName('original_NB').getOrCreate()"
   ]
  },
  {
   "cell_type": "code",
   "execution_count": 3,
   "metadata": {},
   "outputs": [
    {
     "name": "stdout",
     "output_type": "stream",
     "text": [
      "+---+-------+-------+--------------------+--------------------+----+\n",
      "|_c0|Country|  class|           Headlines|            Snippets|Year|\n",
      "+---+-------+-------+--------------------+--------------------+----+\n",
      "|  0|Burundi|Unhappy|Burundi Quits Int...|It became the fir...|2017|\n",
      "|  1|Burundi|Unhappy|We’re Not Done Ye...|The International...|2017|\n",
      "|  2|Burundi|Unhappy|U.N. Group Accuse...|A panel of invest...|2017|\n",
      "|  3|Burundi|Unhappy|Raising Fears of ...|The country’s low...|2016|\n",
      "|  4|Burundi|Unhappy|Burundi Robotics ...|The police say fo...|2017|\n",
      "|  5|Burundi|Unhappy|Assassination in ...|The environment m...|2017|\n",
      "|  6|Burundi|Unhappy|Jewish Philanthro...|“Love the strange...|2017|\n",
      "|  7|Burundi|Unhappy|Burundians, Fleei...|It is the final s...|2017|\n",
      "|  8|Burundi|Unhappy|36 Burundian Refu...|The Burundians ha...|2017|\n",
      "|  9|Burundi|Unhappy|Canada Letter: Sp...|A weekly collecti...|2017|\n",
      "| 10|Burundi|Unhappy|Burundi Quits Int...|It became the fir...|2017|\n",
      "| 11|Burundi|Unhappy|We’re Not Done Ye...|The International...|2017|\n",
      "| 12|Burundi|Unhappy|U.N. Group Accuse...|A panel of invest...|2017|\n",
      "| 13|Burundi|Unhappy|Raising Fears of ...|The country’s low...|2016|\n",
      "| 14|Burundi|Unhappy|Burundi Robotics ...|The police say fo...|2017|\n",
      "| 15|Burundi|Unhappy|Assassination in ...|The environment m...|2017|\n",
      "| 16|Burundi|Unhappy|Jewish Philanthro...|“Love the strange...|2017|\n",
      "| 17|Burundi|Unhappy|Burundians, Fleei...|It is the final s...|2017|\n",
      "| 18|Burundi|Unhappy|36 Burundian Refu...|The Burundians ha...|2017|\n",
      "| 19|Burundi|Unhappy|Canada Letter: Sp...|A weekly collecti...|2017|\n",
      "+---+-------+-------+--------------------+--------------------+----+\n",
      "only showing top 20 rows\n",
      "\n"
     ]
    }
   ],
   "source": [
    "start_data = spark.read.format(\"csv\").option(\"header\", \"true\").load(\"NYT_Articles_Combined_class.csv\")\n",
    "start_data.show()"
   ]
  },
  {
   "cell_type": "code",
   "execution_count": 4,
   "metadata": {},
   "outputs": [
    {
     "name": "stdout",
     "output_type": "stream",
     "text": [
      "+---+-------+-------+--------------------+--------------------+----+------+\n",
      "|_c0|Country|  class|           Headlines|            Snippets|Year|length|\n",
      "+---+-------+-------+--------------------+--------------------+----+------+\n",
      "|  0|Burundi|Unhappy|Burundi Quits Int...|It became the fir...|2017|   143|\n",
      "|  1|Burundi|Unhappy|We’re Not Done Ye...|The International...|2017|   148|\n",
      "|  2|Burundi|Unhappy|U.N. Group Accuse...|A panel of invest...|2017|   167|\n",
      "|  3|Burundi|Unhappy|Raising Fears of ...|The country’s low...|2016|   167|\n",
      "|  4|Burundi|Unhappy|Burundi Robotics ...|The police say fo...|2017|   147|\n",
      "|  5|Burundi|Unhappy|Assassination in ...|The environment m...|2017|   156|\n",
      "|  6|Burundi|Unhappy|Jewish Philanthro...|“Love the strange...|2017|   140|\n",
      "|  7|Burundi|Unhappy|Burundians, Fleei...|It is the final s...|2017|   149|\n",
      "|  8|Burundi|Unhappy|36 Burundian Refu...|The Burundians ha...|2017|   143|\n",
      "|  9|Burundi|Unhappy|Canada Letter: Sp...|A weekly collecti...|2017|    70|\n",
      "| 10|Burundi|Unhappy|Burundi Quits Int...|It became the fir...|2017|   143|\n",
      "| 11|Burundi|Unhappy|We’re Not Done Ye...|The International...|2017|   148|\n",
      "| 12|Burundi|Unhappy|U.N. Group Accuse...|A panel of invest...|2017|   167|\n",
      "| 13|Burundi|Unhappy|Raising Fears of ...|The country’s low...|2016|   167|\n",
      "| 14|Burundi|Unhappy|Burundi Robotics ...|The police say fo...|2017|   147|\n",
      "| 15|Burundi|Unhappy|Assassination in ...|The environment m...|2017|   156|\n",
      "| 16|Burundi|Unhappy|Jewish Philanthro...|“Love the strange...|2017|   140|\n",
      "| 17|Burundi|Unhappy|Burundians, Fleei...|It is the final s...|2017|   149|\n",
      "| 18|Burundi|Unhappy|36 Burundian Refu...|The Burundians ha...|2017|   143|\n",
      "| 19|Burundi|Unhappy|Canada Letter: Sp...|A weekly collecti...|2017|    70|\n",
      "+---+-------+-------+--------------------+--------------------+----+------+\n",
      "only showing top 20 rows\n",
      "\n"
     ]
    }
   ],
   "source": [
    "# Create a length column to be used as a future feature \n",
    "from pyspark.sql.functions import length\n",
    "data = start_data.withColumn('length', length(start_data['Snippets']))\n",
    "data.show()"
   ]
  },
  {
   "cell_type": "code",
   "execution_count": 5,
   "metadata": {},
   "outputs": [],
   "source": [
    "from pyspark.ml.feature import Tokenizer, StopWordsRemover, HashingTF, IDF, StringIndexer\n",
    "\n",
    "# Create all the features to the data set\n",
    "happy_unhappy_to_num = StringIndexer(inputCol='class',outputCol='label')\n",
    "tokenizer = Tokenizer(inputCol=\"Snippets\", outputCol=\"token_text\")\n",
    "stopremove = StopWordsRemover(inputCol='token_text',outputCol='stop_tokens')\n",
    "hashingTF = HashingTF(inputCol=\"stop_tokens\", outputCol='hash_token')\n",
    "idf = IDF(inputCol='hash_token', outputCol='idf_token')\n"
   ]
  },
  {
   "cell_type": "code",
   "execution_count": 6,
   "metadata": {},
   "outputs": [],
   "source": [
    "from pyspark.ml.feature import VectorAssembler\n",
    "from pyspark.ml.linalg import Vector\n",
    "\n",
    "# Create feature vectors\n",
    "clean_up = VectorAssembler(inputCols=['idf_token', 'length'], outputCol='features')"
   ]
  },
  {
   "cell_type": "code",
   "execution_count": 12,
   "metadata": {},
   "outputs": [],
   "source": [
    "# Create a and run a data processing Pipeline\n",
    "from pyspark.ml import Pipeline\n",
    "data_prep_pipeline = Pipeline(stages=[happy_unhappy_to_num, tokenizer, stopremove, hashingTF, idf, clean_up])"
   ]
  },
  {
   "cell_type": "code",
   "execution_count": 13,
   "metadata": {},
   "outputs": [],
   "source": [
    "# Fit and transform the pipeline\n",
    "cleaner = data_prep_pipeline.fit(data)\n",
    "cleaned = cleaner.transform(data)"
   ]
  },
  {
   "cell_type": "code",
   "execution_count": 14,
   "metadata": {},
   "outputs": [
    {
     "name": "stdout",
     "output_type": "stream",
     "text": [
      "+-----+------------------------------------------------------------------------------------------------------------------------------------------------------------------------------------------------------------------------------------------------------------------------------------------------------------------------------------------------------------------------------------------------------------------------------------------------+\n",
      "|label|features                                                                                                                                                                                                                                                                                                                                                                                                                                        |\n",
      "+-----+------------------------------------------------------------------------------------------------------------------------------------------------------------------------------------------------------------------------------------------------------------------------------------------------------------------------------------------------------------------------------------------------------------------------------------------------+\n",
      "|1.0  |(262145,[41520,82111,95616,107772,110744,124130,147801,152433,152881,174072,178534,185228,229407,243094,262144],[4.6753824395126555,2.8450676937730366,4.6753824395126555,4.6753824395126555,4.6753824395126555,4.6753824395126555,4.6753824395126555,3.4253185279864526,4.6753824395126555,2.9302927425652245,3.8665508599532483,4.6753824395126555,3.2340283012097375,4.6753824395126555,143.0])                                              |\n",
      "|1.0  |(262145,[15664,18832,21715,42239,63765,89068,166301,202109,217533,229407,233677,234328,258215,262144],[3.9869634001486562,4.6753824395126555,4.6753824395126555,3.501091086458783,4.6753824395126555,4.6753824395126555,4.6753824395126555,4.6753824395126555,2.4280707456627875,6.468056602419475,4.6753824395126555,4.6753824395126555,4.6753824395126555,148.0])                                                                             |\n",
      "|1.0  |(262145,[14376,37612,42300,47363,52269,60380,61033,95906,122969,135533,136020,168976,181661,189658,194478,204619,262144],[4.6753824395126555,4.6753824395126555,2.9302927425652245,4.6753824395126555,4.6753824395126555,4.6753824395126555,4.6753824395126555,7.733101719906497,3.8665508599532483,4.6753824395126555,4.6753824395126555,3.8665508599532483,4.6753824395126555,4.6753824395126555,3.1202214139329936,4.6753824395126555,167.0])|\n",
      "|1.0  |(262145,[20500,42239,42300,55005,60469,83922,101938,129154,150556,152151,173297,184313,229407,260657,262144],[4.6753824395126555,3.501091086458783,2.9302927425652245,4.6753824395126555,4.6753824395126555,4.6753824395126555,4.6753824395126555,4.6753824395126555,4.6753824395126555,3.0180532393741406,4.6753824395126555,4.6753824395126555,3.2340283012097375,3.0180532393741406,167.0])                                                  |\n",
      "|1.0  |(262145,[15664,63758,65212,105411,108443,123981,142080,142710,150794,153318,163133,168269,186593,230634,262144],[3.9869634001486562,4.6753824395126555,3.8665508599532483,4.6753824395126555,4.6753824395126555,4.6753824395126555,4.6753824395126555,4.6753824395126555,3.9869634001486562,4.6753824395126555,4.6753824395126555,4.6753824395126555,4.6753824395126555,4.6753824395126555,147.0])                                              |\n",
      "|1.0  |(262145,[20300,22830,28460,29945,30312,72554,82111,86823,89446,98431,174781,197101,203657,228179,232899,262144],[4.6753824395126555,4.6753824395126555,4.6753824395126555,2.0553733048680916,3.9869634001486562,4.6753824395126555,2.8450676937730366,4.6753824395126555,3.4253185279864526,4.6753824395126555,4.6753824395126555,4.6753824395126555,4.6753824395126555,4.6753824395126555,3.0180532393741406,156.0])                           |\n",
      "|1.0  |(262145,[2061,18410,34289,74350,93932,109230,147495,161826,188704,193224,207926,243998,251920,252788,262144],[4.6753824395126555,4.6753824395126555,4.6753824395126555,4.6753824395126555,4.6753824395126555,4.6753824395126555,4.6753824395126555,3.0180532393741406,4.6753824395126555,4.6753824395126555,4.6753824395126555,4.6753824395126555,4.6753824395126555,4.6753824395126555,140.0])                                                 |\n",
      "|1.0  |(262145,[10840,54425,67540,120990,122063,129461,202268,204499,207084,207502,217533,249828,250977,257065,262144],[4.6753824395126555,4.6753824395126555,4.6753824395126555,4.6753824395126555,4.6753824395126555,4.6753824395126555,4.6753824395126555,4.6753824395126555,4.6753824395126555,2.5386514653225234,2.4280707456627875,4.6753824395126555,4.6753824395126555,4.6753824395126555,149.0])                                              |\n",
      "|1.0  |(262145,[17893,28137,30312,46762,104312,167275,174072,179212,182793,188085,191260,225014,244756,259063,262144],[4.6753824395126555,3.8665508599532483,3.9869634001486562,4.6753824395126555,4.6753824395126555,4.6753824395126555,2.9302927425652245,4.6753824395126555,4.6753824395126555,4.6753824395126555,3.4253185279864526,4.6753824395126555,4.6753824395126555,4.6753824395126555,143.0])                                               |\n",
      "|1.0  |(262145,[49185,53118,150224,150794,181998,226254,262144],[4.6753824395126555,4.6753824395126555,4.6753824395126555,3.9869634001486562,4.6753824395126555,3.0180532393741406,70.0])                                                                                                                                                                                                                                                              |\n",
      "|1.0  |(262145,[41520,82111,95616,107772,110744,124130,147801,152433,152881,174072,178534,185228,229407,243094,262144],[4.6753824395126555,2.8450676937730366,4.6753824395126555,4.6753824395126555,4.6753824395126555,4.6753824395126555,4.6753824395126555,3.4253185279864526,4.6753824395126555,2.9302927425652245,3.8665508599532483,4.6753824395126555,3.2340283012097375,4.6753824395126555,143.0])                                              |\n",
      "|1.0  |(262145,[15664,18832,21715,42239,63765,89068,166301,202109,217533,229407,233677,234328,258215,262144],[3.9869634001486562,4.6753824395126555,4.6753824395126555,3.501091086458783,4.6753824395126555,4.6753824395126555,4.6753824395126555,4.6753824395126555,2.4280707456627875,6.468056602419475,4.6753824395126555,4.6753824395126555,4.6753824395126555,148.0])                                                                             |\n",
      "|1.0  |(262145,[14376,37612,42300,47363,52269,60380,61033,95906,122969,135533,136020,168976,181661,189658,194478,204619,262144],[4.6753824395126555,4.6753824395126555,2.9302927425652245,4.6753824395126555,4.6753824395126555,4.6753824395126555,4.6753824395126555,7.733101719906497,3.8665508599532483,4.6753824395126555,4.6753824395126555,3.8665508599532483,4.6753824395126555,4.6753824395126555,3.1202214139329936,4.6753824395126555,167.0])|\n",
      "|1.0  |(262145,[20500,42239,42300,55005,60469,83922,101938,129154,150556,152151,173297,184313,229407,260657,262144],[4.6753824395126555,3.501091086458783,2.9302927425652245,4.6753824395126555,4.6753824395126555,4.6753824395126555,4.6753824395126555,4.6753824395126555,4.6753824395126555,3.0180532393741406,4.6753824395126555,4.6753824395126555,3.2340283012097375,3.0180532393741406,167.0])                                                  |\n",
      "|1.0  |(262145,[15664,63758,65212,105411,108443,123981,142080,142710,150794,153318,163133,168269,186593,230634,262144],[3.9869634001486562,4.6753824395126555,3.8665508599532483,4.6753824395126555,4.6753824395126555,4.6753824395126555,4.6753824395126555,4.6753824395126555,3.9869634001486562,4.6753824395126555,4.6753824395126555,4.6753824395126555,4.6753824395126555,4.6753824395126555,147.0])                                              |\n",
      "|1.0  |(262145,[20300,22830,28460,29945,30312,72554,82111,86823,89446,98431,174781,197101,203657,228179,232899,262144],[4.6753824395126555,4.6753824395126555,4.6753824395126555,2.0553733048680916,3.9869634001486562,4.6753824395126555,2.8450676937730366,4.6753824395126555,3.4253185279864526,4.6753824395126555,4.6753824395126555,4.6753824395126555,4.6753824395126555,4.6753824395126555,3.0180532393741406,156.0])                           |\n",
      "|1.0  |(262145,[2061,18410,34289,74350,93932,109230,147495,161826,188704,193224,207926,243998,251920,252788,262144],[4.6753824395126555,4.6753824395126555,4.6753824395126555,4.6753824395126555,4.6753824395126555,4.6753824395126555,4.6753824395126555,3.0180532393741406,4.6753824395126555,4.6753824395126555,4.6753824395126555,4.6753824395126555,4.6753824395126555,4.6753824395126555,140.0])                                                 |\n",
      "|1.0  |(262145,[10840,54425,67540,120990,122063,129461,202268,204499,207084,207502,217533,249828,250977,257065,262144],[4.6753824395126555,4.6753824395126555,4.6753824395126555,4.6753824395126555,4.6753824395126555,4.6753824395126555,4.6753824395126555,4.6753824395126555,4.6753824395126555,2.5386514653225234,2.4280707456627875,4.6753824395126555,4.6753824395126555,4.6753824395126555,149.0])                                              |\n",
      "|1.0  |(262145,[17893,28137,30312,46762,104312,167275,174072,179212,182793,188085,191260,225014,244756,259063,262144],[4.6753824395126555,3.8665508599532483,3.9869634001486562,4.6753824395126555,4.6753824395126555,4.6753824395126555,2.9302927425652245,4.6753824395126555,4.6753824395126555,4.6753824395126555,3.4253185279864526,4.6753824395126555,4.6753824395126555,4.6753824395126555,143.0])                                               |\n",
      "|1.0  |(262145,[49185,53118,150224,150794,181998,226254,262144],[4.6753824395126555,4.6753824395126555,4.6753824395126555,3.9869634001486562,4.6753824395126555,3.0180532393741406,70.0])                                                                                                                                                                                                                                                              |\n",
      "+-----+------------------------------------------------------------------------------------------------------------------------------------------------------------------------------------------------------------------------------------------------------------------------------------------------------------------------------------------------------------------------------------------------------------------------------------------------+\n",
      "only showing top 20 rows\n",
      "\n"
     ]
    }
   ],
   "source": [
    "# Show label of happy unhappy and resulting features\n",
    "cleaned.select(['label', 'features']).show(truncate=False)"
   ]
  },
  {
   "cell_type": "code",
   "execution_count": 15,
   "metadata": {},
   "outputs": [],
   "source": [
    "# Break data down into a training set and a testing set\n",
    "(training, testing) = cleaned.randomSplit([0.7, 0.3])"
   ]
  },
  {
   "cell_type": "code",
   "execution_count": 16,
   "metadata": {},
   "outputs": [],
   "source": [
    "from pyspark.ml.classification import NaiveBayes\n",
    "\n",
    "# Create a Naive Bayes model and fit training data\n",
    "nb = NaiveBayes(smoothing=1.0, modelType='multinomial')\n",
    "unhappy_predictor = nb.fit(training)"
   ]
  },
  {
   "cell_type": "code",
   "execution_count": 20,
   "metadata": {},
   "outputs": [
    {
     "name": "stdout",
     "output_type": "stream",
     "text": [
      "+---+-------+-------+--------------------+--------------------+----+------+-----+--------------------+--------------------+--------------------+--------------------+--------------------+--------------------+--------------------+----------+\n",
      "|_c0|Country|  class|           Headlines|            Snippets|Year|length|label|          token_text|         stop_tokens|          hash_token|           idf_token|            features|       rawPrediction|         probability|prediction|\n",
      "+---+-------+-------+--------------------+--------------------+----+------+-----+--------------------+--------------------+--------------------+--------------------+--------------------+--------------------+--------------------+----------+\n",
      "|  0|Burundi|Unhappy|Burundi Quits Int...|It became the fir...|2017|   143|  1.0|[it, became, the,...|[became, first, c...|(262144,[41520,82...|(262144,[41520,82...|(262145,[41520,82...|[-875.38529614670...|[5.92439294932122...|       1.0|\n",
      "+---+-------+-------+--------------------+--------------------+----+------+-----+--------------------+--------------------+--------------------+--------------------+--------------------+--------------------+--------------------+----------+\n",
      "only showing top 1 row\n",
      "\n"
     ]
    }
   ],
   "source": [
    "# Tranform the model with the testing data\n",
    "test_results = unhappy_predictor.transform(testing)\n",
    "test_results.show(1)"
   ]
  },
  {
   "cell_type": "code",
   "execution_count": 21,
   "metadata": {},
   "outputs": [
    {
     "name": "stdout",
     "output_type": "stream",
     "text": [
      "Accuracy of model at predicting unahhpiness was: 1.0\n"
     ]
    }
   ],
   "source": [
    "# Use the Class Evaluator for a cleaner description\n",
    "from pyspark.ml.evaluation import MulticlassClassificationEvaluator\n",
    "\n",
    "acc_eval = MulticlassClassificationEvaluator()\n",
    "acc = acc_eval.evaluate(test_results)\n",
    "print(f\"Accuracy of model at predicting unahhpiness was: {acc}\")"
   ]
  },
  {
   "cell_type": "code",
   "execution_count": 29,
   "metadata": {},
   "outputs": [
    {
     "data": {
      "text/plain": [
       "DataFrame[_c0: string, Country: string, class: string, Headlines: string, Snippets: string, Year: string, length: int, label: double, token_text: array<string>, stop_tokens: array<string>, hash_token: vector, idf_token: vector, features: vector, rawPrediction: vector, probability: vector, prediction: double]"
      ]
     },
     "execution_count": 29,
     "metadata": {},
     "output_type": "execute_result"
    }
   ],
   "source": [
    "test_results"
   ]
  },
  {
   "cell_type": "code",
   "execution_count": 22,
   "metadata": {},
   "outputs": [],
   "source": [
    "import matplotlib.pyplot as plt\n",
    "from sklearn.datasets import make_classification\n"
   ]
  },
  {
   "cell_type": "code",
   "execution_count": 23,
   "metadata": {},
   "outputs": [
    {
     "data": {
      "image/png": "[encoded data removed]",
      "text/plain": [
       "<matplotlib.figure.Figure at 0x112be17b8>"
      ]
     },
     "metadata": {},
     "output_type": "display_data"
    }
   ],
   "source": [
    "plt.title(\"Two informative features, one cluster per class\", fontsize='small')\n",
    "X1, Y1 = make_classification(n_features=2, n_redundant=0, n_informative=2,\n",
    "                             n_clusters_per_class=1)\n",
    "plt.scatter(X1[:, 0], X1[:, 1], marker='o', c=Y1,\n",
    "            s=25, edgecolor='k')\n",
    "plt.show()"
   ]
  },
  {
   "cell_type": "code",
   "execution_count": null,
   "metadata": {
    "collapsed": true
   },
   "outputs": [],
   "source": [
    "# read other countries csv\n",
    "start_data1 = spark.read.format(\"csv\").option(\"header\", \"true\").load(\"NYT_Articles_other_Combined.csv\")\n",
    "start_data1.show()"
   ]
  },
  {
   "cell_type": "code",
   "execution_count": null,
   "metadata": {},
   "outputs": [],
   "source": [
    "# Create a length column to be used as a future feature \n",
    "from pyspark.sql.functions import length\n",
    "data = start_data.withColumn('length', length(start_data['Snippets']))\n",
    "data.show()"
   ]
  },
  {
   "cell_type": "code",
   "execution_count": null,
   "metadata": {},
   "outputs": [],
   "source": [
    "# Create all the features to the data set\n",
    "happy_unhappy_to_num = StringIndexer(inputCol='class',outputCol='label')\n",
    "tokenizer = Tokenizer(inputCol=\"Snippets\", outputCol=\"token_text\")\n",
    "stopremove = StopWordsRemover(inputCol='token_text',outputCol='stop_tokens')\n",
    "hashingTF = HashingTF(inputCol=\"stop_tokens\", outputCol='hash_token')\n",
    "idf = IDF(inputCol='hash_token', outputCol='idf_token')"
   ]
  },
  {
   "cell_type": "code",
   "execution_count": null,
   "metadata": {},
   "outputs": [],
   "source": [
    "from pyspark.ml.feature import VectorAssembler\n",
    "from pyspark.ml.linalg import Vector\n",
    "\n",
    "# Create feature vectors\n",
    "clean_up = VectorAssembler(inputCols=['idf_token', 'length'], outputCol='features')"
   ]
  },
  {
   "cell_type": "code",
   "execution_count": null,
   "metadata": {},
   "outputs": [],
   "source": [
    "# Create a and run a data processing Pipeline\n",
    "from pyspark.ml import Pipeline\n",
    "data_prep_pipeline = Pipeline(stages=[happy_unhappy_to_num, tokenizer, stopremove, hashingTF, idf, clean_up])"
   ]
  },
  {
   "cell_type": "code",
   "execution_count": null,
   "metadata": {},
   "outputs": [],
   "source": [
    "# Fit and transform the pipeline\n",
    "cleaner = data_prep_pipeline.fit(data)\n",
    "cleaned = cleaner.transform(data)"
   ]
  },
  {
   "cell_type": "code",
   "execution_count": null,
   "metadata": {},
   "outputs": [],
   "source": [
    "# Show label of happy unhappy and resulting features\n",
    "cleaned.select(['label', 'features']).show(truncate=False)"
   ]
  },
  {
   "cell_type": "code",
   "execution_count": null,
   "metadata": {},
   "outputs": [],
   "source": [
    "# Tranform the model with the testing data\n",
    "test_results = unhappy_predictor.transform(testing)\n",
    "test_results.show(1)"
   ]
  },
  {
   "cell_type": "code",
   "execution_count": null,
   "metadata": {},
   "outputs": [],
   "source": [
    "# Use the Class Evaluator for a cleaner description\n",
    "from pyspark.ml.evaluation import MulticlassClassificationEvaluator\n",
    "\n",
    "acc_eval = MulticlassClassificationEvaluator()\n",
    "acc = acc_eval.evaluate(test_results)\n",
    "print(f\"Accuracy of model at predicting unahhpiness was: {acc}\")"
   ]
  },
  {
   "cell_type": "code",
   "execution_count": null,
   "metadata": {},
   "outputs": [],
   "source": []
  }
 ],
 "metadata": {
  "kernelspec": {
   "display_name": "Python 3",
   "language": "python",
   "name": "python3"
  },
  "language_info": {
   "codemirror_mode": {
    "name": "ipython",
    "version": 3
   },
   "file_extension": ".py",
   "mimetype": "text/x-python",
   "name": "python",
   "nbconvert_exporter": "python",
   "pygments_lexer": "ipython3",
   "version": "3.6.4"
  }
 },
 "nbformat": 4,
 "nbformat_minor": 2
}
