{
 "cells": [
  {
   "cell_type": "code",
   "execution_count": 30,
   "metadata": {
    "collapsed": true
   },
   "outputs": [],
   "source": [
    "#Importing libraries\n",
    "import sys\n",
    "import os\n",
    "import jsonpickle\n",
    "import tweepy"
   ]
  },
  {
   "cell_type": "code",
   "execution_count": 31,
   "metadata": {
    "collapsed": true
   },
   "outputs": [],
   "source": [
    "# Twitter API Keys\n",
    "consumer_key = \"L073q8Z8NKBqWN86XQgoImTsn\"\n",
    "consumer_secret = \"zEjRjQ9c9LhfmcWnj5v6EUlqCusyeqvMEwYH5NZzXhBGVtGcj5\"\n",
    "access_token = \"71276928-9nHE69OIpKL8qHb42OkPCLfPOfoMFbdLMDtxbeOYk\"\n",
    "access_token_secret = \"0Wjn5DalgISnTMlM1HOdFRgxMF7r7nqhORu7SJb7EsVDO\""
   ]
  },
  {
   "cell_type": "code",
   "execution_count": 32,
   "metadata": {
    "collapsed": true
   },
   "outputs": [],
   "source": [
    "# Setup Tweepy API Authentication\n",
    "auth = tweepy.OAuthHandler(consumer_key, consumer_secret)\n",
    "auth.set_access_token(access_token, access_token_secret)\n",
    "#api = tweepy.API(auth, parser=tweepy.parsers.JSONParser())\n",
    "api = tweepy.API(auth)\n",
    "\n",
    "#Error handling\n",
    "if (not api):\n",
    "    print (\"Problem connecting to API\")"
   ]
  },
  {
   "cell_type": "code",
   "execution_count": 33,
   "metadata": {
    "collapsed": true
   },
   "outputs": [],
   "source": [
    "#Switching to application authentication\n",
    "auth = tweepy.AppAuthHandler(consumer_key, consumer_secret)\n",
    "\n",
    "#Setting up new api wrapper, using authentication only\n",
    "api = tweepy.API(auth, wait_on_rate_limit=True,wait_on_rate_limit_notify=True)\n",
    " \n",
    "#Error handling\n",
    "if (not api):\n",
    "    print (\"Problem Connecting to API\")"
   ]
  },
  {
   "cell_type": "code",
   "execution_count": 34,
   "metadata": {
    "collapsed": true
   },
   "outputs": [],
   "source": [
    "# #You can check how many queries you have left using rate_limit_status() method\n",
    "# api.rate_limit_status()['resources']['search']"
   ]
  },
  {
   "cell_type": "code",
   "execution_count": 35,
   "metadata": {
    "collapsed": true
   },
   "outputs": [],
   "source": [
    "#This is what we are searching for\n",
    "#We can restrict the location of tweets using place:id \n",
    "#We can search for multiple phrases using OR\n",
    "searchQuery = '#family' \n",
    "'OR #health'\\\n",
    "'OR #freedom'\\\n",
    "'OR #trust'\\\n",
    "'OR #generosity'\n",
    "\n",
    "#Maximum number of tweets we want to collect \n",
    "# maxTweets = 1000000\n",
    "maxTweets = 1000\n",
    "\n",
    "#The twitter Search API allows up to 100 tweets per query\n",
    "tweetsPerQry = 100"
   ]
  },
  {
   "cell_type": "code",
   "execution_count": 36,
   "metadata": {},
   "outputs": [
    {
     "name": "stdout",
     "output_type": "stream",
     "text": [
      "Downloaded 1000 tweets\n",
      "2018-04-14 12:28:46 Spot the tourists at the Eiffel Tower #eiffeltower #toureiffel #tourists #family #paris https://t.co/7zdyJxaaig en\n"
     ]
    }
   ],
   "source": [
    "tweetCount = 0\n",
    "\n",
    "#Open a text file to save the tweets to\n",
    "with open('Project_3_Tweepy_template_Denmark.json', 'w') as f:\n",
    "\n",
    "    #Tell the Cursor method that we want to use the Search API (api.search)\n",
    "    #Also tell Cursor our query, and the maximum number of tweets to return\n",
    "    for tweet in tweepy.Cursor(api.search, q=searchQuery, geocode=\"55.68028,12.59005,15000km\").items(maxTweets) :\n",
    "            \n",
    "            #Write the JSON format to the text file, and add one to the number of tweets we've collected\n",
    "            f.write(jsonpickle.encode(tweet._json, unpicklable=False) + '\\n')\n",
    "            tweetCount += 1\n",
    "\n",
    "    #Display how many tweets we have collected\n",
    "    print(\"Downloaded {0} tweets\".format(tweetCount))\n",
    "    print(tweet.created_at, tweet.text, tweet.lang)"
   ]
  },
  {
   "cell_type": "code",
   "execution_count": null,
   "metadata": {
    "collapsed": true
   },
   "outputs": [],
   "source": []
  },
  {
   "cell_type": "code",
   "execution_count": null,
   "metadata": {
    "collapsed": true
   },
   "outputs": [],
   "source": []
  }
 ],
 "metadata": {
  "kernelspec": {
   "display_name": "Python [conda env:PythonData]",
   "language": "python",
   "name": "conda-env-PythonData-py"
  },
  "language_info": {
   "codemirror_mode": {
    "name": "ipython",
    "version": 3
   },
   "file_extension": ".py",
   "mimetype": "text/x-python",
   "name": "python",
   "nbconvert_exporter": "python",
   "pygments_lexer": "ipython3",
   "version": "3.6.3"
  }
 },
 "nbformat": 4,
 "nbformat_minor": 2
}
