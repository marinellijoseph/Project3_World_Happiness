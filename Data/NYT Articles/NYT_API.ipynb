{
 "cells": [
  {
   "cell_type": "code",
   "execution_count": 53,
   "metadata": {},
   "outputs": [],
   "source": [
    "# import dependencies\n",
    "import requests as req\n",
    "import pandas as pd"
   ]
  },
  {
   "cell_type": "code",
   "execution_count": 54,
   "metadata": {},
   "outputs": [],
   "source": [
    "# NYT API query parameters\n",
    "url = \"https://api.nytimes.com/svc/search/v2/articlesearch.json\"\n",
    "api_key = \"d673bd0cbe3f44d18b957ffaf3694170\"\n",
    "q = 'iceland',\n",
    "begin_date = \"20170101\",\n",
    "end_date = \"20171231\",\n",
    "page = 0\n"
   ]
  },
  {
   "cell_type": "code",
   "execution_count": 55,
   "metadata": {},
   "outputs": [],
   "source": [
    "# set param_dict\n",
    "param_dict = {\n",
    "    'api-key': api_key,\n",
    "    'q': q,\n",
    "    'begin_date': begin_date,\n",
    "    'end_date': end_date,\n",
    "    'page':page\n",
    "}"
   ]
  },
  {
   "cell_type": "code",
   "execution_count": 56,
   "metadata": {},
   "outputs": [],
   "source": [
    "# retrieve API results\n",
    "api_body = req.get(url, params=param_dict).json()"
   ]
  },
  {
   "cell_type": "code",
   "execution_count": 57,
   "metadata": {},
   "outputs": [
    {
     "name": "stdout",
     "output_type": "stream",
     "text": [
      "19\n"
     ]
    }
   ],
   "source": [
    "# print meta of api_body response to get hits (number of articles queryed) iceland: 150, iceland: 150, iceland: 35, iceland:44 \n",
    "param_dict['q'] = 'iceland'\n",
    "api_body = req.get(url, params=param_dict).json()\n",
    "pages = int(api_body['response']['meta']['hits']/10)\n",
    "print(pages)\n"
   ]
  },
  {
   "cell_type": "code",
   "execution_count": 58,
   "metadata": {},
   "outputs": [
    {
     "name": "stdout",
     "output_type": "stream",
     "text": [
      "Headline: 'Iceland’s Government Falls After Letter Asking to Pardon Pedophile'.\n",
      "Snippet: 'The prime minister was accused of attempting to cover up a recommendation from his father supporting clemency for a convicted child abuser.'.\n",
      "Date: '2017-09-18T14:47:36+0000\n",
      "Headline: 'Can You Find Iceland on a Map?'.\n",
      "Snippet: 'What else do you know about Iceland’s geography, history and culture? Take our quiz to learn more.'.\n",
      "Date: '2017-11-06T11:00:02+0000\n",
      "Headline: 'Vikings Razed the Forests. Can Iceland Regrow Them?'.\n",
      "Snippet: 'The country lost most of its trees long ago. Despite years of replanting, it isn’t making much progress.'.\n",
      "Date: '2017-10-20T04:10:44+0000\n",
      "Headline: 'Iceland’s Independence Party Retains Most Seats After Election'.\n",
      "Snippet: 'But the conservative party, led by Prime Minister Bjarni Benediktsson, emerged somewhat weakened, losing five seats.'.\n",
      "Date: '2017-10-29T13:22:34+0000\n",
      "Headline: 'Iceland Goes to Polls Amid Scandals, Disgust and Distrust'.\n",
      "Snippet: 'As Iceland votes in parliamentary elections on Saturday, a disgraced former prime minister is among those competing to govern.'.\n",
      "Date: '2017-10-28T08:59:54+0000\n",
      "Headline: 'Iceland Becomes Smallest Nation to Qualify for World Cup'.\n",
      "Snippet: 'Iceland made a stunning run at the 2016 European Championships, then followed it up on Monday by clinching a berth in the Cup finals in Russia next year.'.\n",
      "Date: '2017-10-10T00:43:11+0000\n",
      "Headline: 'Deadly Deeds, From Snowy Iceland to the 42nd Street Library'.\n",
      "Snippet: 'New crime novels by Barclay, Indridason and Lehane take readers from New York to Reykjavik. Then Goldstone goes back in time for a medical mystery.'.\n",
      "Date: '2017-11-16T10:00:22+0000\n",
      "Headline: 'American Companies Still Make Aluminum. In Iceland.'.\n",
      "Snippet: 'The Trump administration blames China for the decline of aluminum production in the U.S. But where has it really gone?'.\n",
      "Date: '2017-07-01T13:00:41+0000\n",
      "Headline: 'Review: ‘I Remember You’ Is a Piercing Horror Film From Iceland'.\n",
      "Snippet: 'The director Oskar Thor Axelsson prefers mood and compelling human conflict over copious gore to deliver chills. The result is effective.'.\n",
      "Date: '2017-11-09T12:00:28+0000\n",
      "Headline: 'Cool Cruises Around Iceland'.\n",
      "Snippet: 'Glaciers, fjords, wildlife, lava and Reykjavik are on the itineraries this summer.'.\n",
      "Date: '2017-05-19T10:00:04+0000\n"
     ]
    }
   ],
   "source": [
    "# print headline and snippet from api response\n",
    "for article in api_body['response']['docs']:\n",
    "    print(\"Headline: '\" + article[\"headline\"][\"main\"] + \"'.\\n\"\\\n",
    "          \"Snippet: '\" + article[\"snippet\"] + \"'.\\n\"\\\n",
    "          \"Date: '\" + article[\"pub_date\"])"
   ]
  },
  {
   "cell_type": "code",
   "execution_count": 59,
   "metadata": {},
   "outputs": [
    {
     "data": {
      "text/plain": [
       "['Iceland’s Government Falls After Letter Asking to Pardon Pedophile',\n",
       " 'Can You Find Iceland on a Map?',\n",
       " 'Vikings Razed the Forests. Can Iceland Regrow Them?',\n",
       " 'Iceland’s Independence Party Retains Most Seats After Election',\n",
       " 'Iceland Goes to Polls Amid Scandals, Disgust and Distrust',\n",
       " 'Iceland Becomes Smallest Nation to Qualify for World Cup',\n",
       " 'Deadly Deeds, From Snowy Iceland to the 42nd Street Library',\n",
       " 'American Companies Still Make Aluminum. In Iceland.',\n",
       " 'Review: ‘I Remember You’ Is a Piercing Horror Film From Iceland',\n",
       " 'Cool Cruises Around Iceland',\n",
       " 'Iceland’s Government Falls After Letter Asking to Pardon Pedophile',\n",
       " 'Can You Find Iceland on a Map?',\n",
       " 'Vikings Razed the Forests. Can Iceland Regrow Them?',\n",
       " 'Iceland’s Independence Party Retains Most Seats After Election',\n",
       " 'Iceland Goes to Polls Amid Scandals, Disgust and Distrust',\n",
       " 'Iceland Becomes Smallest Nation to Qualify for World Cup',\n",
       " 'Deadly Deeds, From Snowy Iceland to the 42nd Street Library',\n",
       " 'American Companies Still Make Aluminum. In Iceland.',\n",
       " 'Review: ‘I Remember You’ Is a Piercing Horror Film From Iceland',\n",
       " 'Cool Cruises Around Iceland',\n",
       " 'Iceland’s Government Falls After Letter Asking to Pardon Pedophile',\n",
       " 'Can You Find Iceland on a Map?',\n",
       " 'Vikings Razed the Forests. Can Iceland Regrow Them?',\n",
       " 'Iceland’s Independence Party Retains Most Seats After Election',\n",
       " 'Iceland Goes to Polls Amid Scandals, Disgust and Distrust',\n",
       " 'Iceland Becomes Smallest Nation to Qualify for World Cup',\n",
       " 'Deadly Deeds, From Snowy Iceland to the 42nd Street Library',\n",
       " 'American Companies Still Make Aluminum. In Iceland.',\n",
       " 'Review: ‘I Remember You’ Is a Piercing Horror Film From Iceland',\n",
       " 'Cool Cruises Around Iceland',\n",
       " 'Iceland’s Government Falls After Letter Asking to Pardon Pedophile',\n",
       " 'Can You Find Iceland on a Map?',\n",
       " 'Vikings Razed the Forests. Can Iceland Regrow Them?',\n",
       " 'Iceland’s Independence Party Retains Most Seats After Election',\n",
       " 'Iceland Goes to Polls Amid Scandals, Disgust and Distrust',\n",
       " 'Iceland Becomes Smallest Nation to Qualify for World Cup',\n",
       " 'Deadly Deeds, From Snowy Iceland to the 42nd Street Library',\n",
       " 'American Companies Still Make Aluminum. In Iceland.',\n",
       " 'Review: ‘I Remember You’ Is a Piercing Horror Film From Iceland',\n",
       " 'Cool Cruises Around Iceland',\n",
       " 'Iceland’s Government Falls After Letter Asking to Pardon Pedophile',\n",
       " 'Can You Find Iceland on a Map?',\n",
       " 'Vikings Razed the Forests. Can Iceland Regrow Them?',\n",
       " 'Iceland’s Independence Party Retains Most Seats After Election',\n",
       " 'Iceland Goes to Polls Amid Scandals, Disgust and Distrust',\n",
       " 'Iceland Becomes Smallest Nation to Qualify for World Cup',\n",
       " 'Deadly Deeds, From Snowy Iceland to the 42nd Street Library',\n",
       " 'American Companies Still Make Aluminum. In Iceland.',\n",
       " 'Review: ‘I Remember You’ Is a Piercing Horror Film From Iceland',\n",
       " 'Cool Cruises Around Iceland']"
      ]
     },
     "execution_count": 59,
     "metadata": {},
     "output_type": "execute_result"
    }
   ],
   "source": [
    "# set variables to empty list\n",
    "headlines = []\n",
    "snippets = []\n",
    "dates = []\n",
    "# loop through pages and append variables to lists\n",
    "for api_page in range(0,5):\n",
    "    param_dict['page'] = api_page\n",
    "    for article in api_body['response']['docs']:\n",
    "        headlines.append(article[\"headline\"][\"main\"])\n",
    "        snippets.append(article[\"snippet\"])\n",
    "        dates.append(article[\"pub_date\"])\n",
    "        #articles.append(\"Headline: \" + article[\"headline\"][\"main\"])\n",
    "        #articles.append(\"Snippet: \" + article[\"snippet\"])\n",
    "headlines"
   ]
  },
  {
   "cell_type": "code",
   "execution_count": 60,
   "metadata": {},
   "outputs": [
    {
     "data": {
      "text/plain": [
       "Headlines    object\n",
       "Snippets     object\n",
       "Year         object\n",
       "dtype: object"
      ]
     },
     "execution_count": 60,
     "metadata": {},
     "output_type": "execute_result"
    }
   ],
   "source": [
    "# put lists into df\n",
    "iceland_NYT_Data = pd.DataFrame(\n",
    "    {'Headlines': headlines,\n",
    "     'Snippets': snippets,\n",
    "     'Year': dates\n",
    "    })\n",
    "\n",
    "iceland_NYT_Data.dtypes"
   ]
  },
  {
   "cell_type": "code",
   "execution_count": 61,
   "metadata": {
    "scrolled": true
   },
   "outputs": [
    {
     "data": {
      "text/html": [
       "<div>\n",
       "<style scoped>\n",
       "    .dataframe tbody tr th:only-of-type {\n",
       "        vertical-align: middle;\n",
       "    }\n",
       "\n",
       "    .dataframe tbody tr th {\n",
       "        vertical-align: top;\n",
       "    }\n",
       "\n",
       "    .dataframe thead th {\n",
       "        text-align: right;\n",
       "    }\n",
       "</style>\n",
       "<table border=\"1\" class=\"dataframe\">\n",
       "  <thead>\n",
       "    <tr style=\"text-align: right;\">\n",
       "      <th></th>\n",
       "      <th>Headlines</th>\n",
       "      <th>Snippets</th>\n",
       "      <th>Year</th>\n",
       "      <th>Country</th>\n",
       "    </tr>\n",
       "  </thead>\n",
       "  <tbody>\n",
       "    <tr>\n",
       "      <th>0</th>\n",
       "      <td>Iceland’s Government Falls After Letter Asking...</td>\n",
       "      <td>The prime minister was accused of attempting t...</td>\n",
       "      <td>2017</td>\n",
       "      <td>iceland</td>\n",
       "    </tr>\n",
       "    <tr>\n",
       "      <th>1</th>\n",
       "      <td>Can You Find Iceland on a Map?</td>\n",
       "      <td>What else do you know about Iceland’s geograph...</td>\n",
       "      <td>2017</td>\n",
       "      <td>iceland</td>\n",
       "    </tr>\n",
       "    <tr>\n",
       "      <th>2</th>\n",
       "      <td>Vikings Razed the Forests. Can Iceland Regrow ...</td>\n",
       "      <td>The country lost most of its trees long ago. D...</td>\n",
       "      <td>2017</td>\n",
       "      <td>iceland</td>\n",
       "    </tr>\n",
       "    <tr>\n",
       "      <th>3</th>\n",
       "      <td>Iceland’s Independence Party Retains Most Seat...</td>\n",
       "      <td>But the conservative party, led by Prime Minis...</td>\n",
       "      <td>2017</td>\n",
       "      <td>iceland</td>\n",
       "    </tr>\n",
       "    <tr>\n",
       "      <th>4</th>\n",
       "      <td>Iceland Goes to Polls Amid Scandals, Disgust a...</td>\n",
       "      <td>As Iceland votes in parliamentary elections on...</td>\n",
       "      <td>2017</td>\n",
       "      <td>iceland</td>\n",
       "    </tr>\n",
       "  </tbody>\n",
       "</table>\n",
       "</div>"
      ],
      "text/plain": [
       "                                           Headlines  \\\n",
       "0  Iceland’s Government Falls After Letter Asking...   \n",
       "1                     Can You Find Iceland on a Map?   \n",
       "2  Vikings Razed the Forests. Can Iceland Regrow ...   \n",
       "3  Iceland’s Independence Party Retains Most Seat...   \n",
       "4  Iceland Goes to Polls Amid Scandals, Disgust a...   \n",
       "\n",
       "                                            Snippets  Year  Country  \n",
       "0  The prime minister was accused of attempting t...  2017  iceland  \n",
       "1  What else do you know about Iceland’s geograph...  2017  iceland  \n",
       "2  The country lost most of its trees long ago. D...  2017  iceland  \n",
       "3  But the conservative party, led by Prime Minis...  2017  iceland  \n",
       "4  As Iceland votes in parliamentary elections on...  2017  iceland  "
      ]
     },
     "execution_count": 61,
     "metadata": {},
     "output_type": "execute_result"
    }
   ],
   "source": [
    "# get year from date\n",
    "iceland_NYT_Data['Year'] = iceland_NYT_Data.Year.str[:4]\n",
    "iceland_NYT_Data['Country'] = 'iceland'\n",
    "iceland_NYT_Data.head()\n",
    "\n"
   ]
  },
  {
   "cell_type": "code",
   "execution_count": 63,
   "metadata": {},
   "outputs": [
    {
     "data": {
      "text/html": [
       "<div>\n",
       "<style scoped>\n",
       "    .dataframe tbody tr th:only-of-type {\n",
       "        vertical-align: middle;\n",
       "    }\n",
       "\n",
       "    .dataframe tbody tr th {\n",
       "        vertical-align: top;\n",
       "    }\n",
       "\n",
       "    .dataframe thead th {\n",
       "        text-align: right;\n",
       "    }\n",
       "</style>\n",
       "<table border=\"1\" class=\"dataframe\">\n",
       "  <thead>\n",
       "    <tr style=\"text-align: right;\">\n",
       "      <th></th>\n",
       "      <th>Headlines</th>\n",
       "      <th>Snippets</th>\n",
       "      <th>Year</th>\n",
       "      <th>Country</th>\n",
       "      <th>class</th>\n",
       "    </tr>\n",
       "  </thead>\n",
       "  <tbody>\n",
       "    <tr>\n",
       "      <th>0</th>\n",
       "      <td>Iceland’s Government Falls After Letter Asking...</td>\n",
       "      <td>The prime minister was accused of attempting t...</td>\n",
       "      <td>2017</td>\n",
       "      <td>iceland</td>\n",
       "      <td>happy</td>\n",
       "    </tr>\n",
       "    <tr>\n",
       "      <th>1</th>\n",
       "      <td>Can You Find Iceland on a Map?</td>\n",
       "      <td>What else do you know about Iceland’s geograph...</td>\n",
       "      <td>2017</td>\n",
       "      <td>iceland</td>\n",
       "      <td>happy</td>\n",
       "    </tr>\n",
       "    <tr>\n",
       "      <th>2</th>\n",
       "      <td>Vikings Razed the Forests. Can Iceland Regrow ...</td>\n",
       "      <td>The country lost most of its trees long ago. D...</td>\n",
       "      <td>2017</td>\n",
       "      <td>iceland</td>\n",
       "      <td>happy</td>\n",
       "    </tr>\n",
       "    <tr>\n",
       "      <th>3</th>\n",
       "      <td>Iceland’s Independence Party Retains Most Seat...</td>\n",
       "      <td>But the conservative party, led by Prime Minis...</td>\n",
       "      <td>2017</td>\n",
       "      <td>iceland</td>\n",
       "      <td>happy</td>\n",
       "    </tr>\n",
       "    <tr>\n",
       "      <th>4</th>\n",
       "      <td>Iceland Goes to Polls Amid Scandals, Disgust a...</td>\n",
       "      <td>As Iceland votes in parliamentary elections on...</td>\n",
       "      <td>2017</td>\n",
       "      <td>iceland</td>\n",
       "      <td>happy</td>\n",
       "    </tr>\n",
       "  </tbody>\n",
       "</table>\n",
       "</div>"
      ],
      "text/plain": [
       "                                           Headlines  \\\n",
       "0  Iceland’s Government Falls After Letter Asking...   \n",
       "1                     Can You Find Iceland on a Map?   \n",
       "2  Vikings Razed the Forests. Can Iceland Regrow ...   \n",
       "3  Iceland’s Independence Party Retains Most Seat...   \n",
       "4  Iceland Goes to Polls Amid Scandals, Disgust a...   \n",
       "\n",
       "                                            Snippets  Year  Country  class  \n",
       "0  The prime minister was accused of attempting t...  2017  iceland  happy  \n",
       "1  What else do you know about Iceland’s geograph...  2017  iceland  happy  \n",
       "2  The country lost most of its trees long ago. D...  2017  iceland  happy  \n",
       "3  But the conservative party, led by Prime Minis...  2017  iceland  happy  \n",
       "4  As Iceland votes in parliamentary elections on...  2017  iceland  happy  "
      ]
     },
     "execution_count": 63,
     "metadata": {},
     "output_type": "execute_result"
    }
   ],
   "source": [
    "#map class column and happy or unhappy values to countries\n",
    "country_class = {'iceland': 'happy'}\n",
    "iceland_NYT_Data['class'] = iceland_NYT_Data['Country'].map(country_class)\n",
    "iceland_NYT_Data.head()"
   ]
  },
  {
   "cell_type": "code",
   "execution_count": 64,
   "metadata": {},
   "outputs": [],
   "source": [
    "iceland_NYT_Data.to_csv(\"iceland_NYT_Data.csv\")"
   ]
  },
  {
   "cell_type": "code",
   "execution_count": null,
   "metadata": {},
   "outputs": [],
   "source": []
  },
  {
   "cell_type": "code",
   "execution_count": null,
   "metadata": {},
   "outputs": [],
   "source": []
  }
 ],
 "metadata": {
  "kernelspec": {
   "display_name": "Python 3",
   "language": "python",
   "name": "python3"
  },
  "language_info": {
   "codemirror_mode": {
    "name": "ipython",
    "version": 3
   },
   "file_extension": ".py",
   "mimetype": "text/x-python",
   "name": "python",
   "nbconvert_exporter": "python",
   "pygments_lexer": "ipython3",
   "version": "3.6.4"
  }
 },
 "nbformat": 4,
 "nbformat_minor": 2
}
