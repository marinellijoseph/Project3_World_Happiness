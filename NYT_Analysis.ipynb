{
 "cells": [
  {
   "cell_type": "code",
   "execution_count": 33,
   "metadata": {},
   "outputs": [],
   "source": [
    "from pyspark.sql import SparkSession\n",
    "import os\n",
    "import pandas as pd"
   ]
  },
  {
   "cell_type": "code",
   "execution_count": 34,
   "metadata": {
    "collapsed": true
   },
   "outputs": [],
   "source": [
    "spark = SparkSession.builder.appName('NYT_Articles').getOrCreate()"
   ]
  },
  {
   "cell_type": "code",
   "execution_count": 35,
   "metadata": {
    "scrolled": false
   },
   "outputs": [
    {
     "data": {
      "text/html": [
       "<div>\n",
       "<style>\n",
       "    .dataframe thead tr:only-child th {\n",
       "        text-align: right;\n",
       "    }\n",
       "\n",
       "    .dataframe thead th {\n",
       "        text-align: left;\n",
       "    }\n",
       "\n",
       "    .dataframe tbody tr th {\n",
       "        vertical-align: top;\n",
       "    }\n",
       "</style>\n",
       "<table border=\"1\" class=\"dataframe\">\n",
       "  <thead>\n",
       "    <tr style=\"text-align: right;\">\n",
       "      <th></th>\n",
       "      <th>Country</th>\n",
       "      <th>Headlines</th>\n",
       "      <th>Snippets</th>\n",
       "      <th>Year</th>\n",
       "    </tr>\n",
       "  </thead>\n",
       "  <tbody>\n",
       "    <tr>\n",
       "      <th>0</th>\n",
       "      <td>Norway</td>\n",
       "      <td>In Norway, Fighting the Culling of Reindeer Wi...</td>\n",
       "      <td>A young indigenous Sami reindeer herder is sui...</td>\n",
       "      <td>2017</td>\n",
       "    </tr>\n",
       "    <tr>\n",
       "      <th>1</th>\n",
       "      <td>Norway</td>\n",
       "      <td>In Certifiably Happy Norway, a Cranky Traveler...</td>\n",
       "      <td>Charming villages. Inventive meals. A gorgeous...</td>\n",
       "      <td>2017</td>\n",
       "    </tr>\n",
       "    <tr>\n",
       "      <th>2</th>\n",
       "      <td>Norway</td>\n",
       "      <td>‘It Was a Blood Bath’: Freight Trains Kill 110...</td>\n",
       "      <td>Animal advocacy groups urge speed limits, new ...</td>\n",
       "      <td>2017</td>\n",
       "    </tr>\n",
       "    <tr>\n",
       "      <th>3</th>\n",
       "      <td>Norway</td>\n",
       "      <td>As Wild Salmon Decline, Norway Pressures Its G...</td>\n",
       "      <td>New rules to combat sea lice have angered Norw...</td>\n",
       "      <td>2017</td>\n",
       "    </tr>\n",
       "    <tr>\n",
       "      <th>4</th>\n",
       "      <td>Norway</td>\n",
       "      <td>Right-Wing Populist Is Blocked From Joining No...</td>\n",
       "      <td>The politician, Carl I. Hagen, opposes immigra...</td>\n",
       "      <td>2017</td>\n",
       "    </tr>\n",
       "  </tbody>\n",
       "</table>\n",
       "</div>"
      ],
      "text/plain": [
       "  Country                                          Headlines  \\\n",
       "0  Norway  In Norway, Fighting the Culling of Reindeer Wi...   \n",
       "1  Norway  In Certifiably Happy Norway, a Cranky Traveler...   \n",
       "2  Norway  ‘It Was a Blood Bath’: Freight Trains Kill 110...   \n",
       "3  Norway  As Wild Salmon Decline, Norway Pressures Its G...   \n",
       "4  Norway  Right-Wing Populist Is Blocked From Joining No...   \n",
       "\n",
       "                                            Snippets  Year  \n",
       "0  A young indigenous Sami reindeer herder is sui...  2017  \n",
       "1  Charming villages. Inventive meals. A gorgeous...  2017  \n",
       "2  Animal advocacy groups urge speed limits, new ...  2017  \n",
       "3  New rules to combat sea lice have angered Norw...  2017  \n",
       "4  The politician, Carl I. Hagen, opposes immigra...  2017  "
      ]
     },
     "execution_count": 35,
     "metadata": {},
     "output_type": "execute_result"
    }
   ],
   "source": [
    "# combine csvs then write to combined csv\n",
    "path =r'Data/NYT Articles'\n",
    "all_files = glob.glob(os.path.join(path, \"*.csv\"))\n",
    "NYT_Articles_combined = pd.concat((pd.read_csv(f) for f in all_files))\n",
    "NYT_Articles_combined = NYT_Articles_combined[['Country','Headlines','Snippets','Year']]\n",
    "NYT_Articles_combined.head()"
   ]
  },
  {
   "cell_type": "code",
   "execution_count": 36,
   "metadata": {
    "collapsed": true
   },
   "outputs": [],
   "source": [
    "NYT_Articles_combined.to_csv(\"Data/NYT Articles/NYT_Articles_Combined.csv\")"
   ]
  },
  {
   "cell_type": "code",
   "execution_count": null,
   "metadata": {
    "collapsed": true
   },
   "outputs": [],
   "source": [
    "# import csv"
   ]
  }
 ],
 "metadata": {
  "kernelspec": {
   "display_name": "Python 3",
   "language": "python",
   "name": "python3"
  },
  "language_info": {
   "codemirror_mode": {
    "name": "ipython",
    "version": 3
   },
   "file_extension": ".py",
   "mimetype": "text/x-python",
   "name": "python",
   "nbconvert_exporter": "python",
   "pygments_lexer": "ipython3",
   "version": "3.6.3"
  }
 },
 "nbformat": 4,
 "nbformat_minor": 2
}
